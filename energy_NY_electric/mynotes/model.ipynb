{
 "cells": [
  {
   "cell_type": "code",
   "execution_count": 1,
   "metadata": {},
   "outputs": [],
   "source": [
    "import pandas as pd\n",
    "import numpy as np\n",
    "import matplotlib.pyplot as plt\n",
    "import joblib\n",
    "from sklearn.ensemble import GradientBoostingRegressor\n",
    "from sklearn.model_selection import train_test_split\n",
    "from sklearn.metrics import r2_score\n",
    "%matplotlib inline"
   ]
  },
  {
   "cell_type": "code",
   "execution_count": 2,
   "metadata": {},
   "outputs": [
    {
     "data": {
      "text/html": [
       "<div>\n",
       "<style scoped>\n",
       "    .dataframe tbody tr th:only-of-type {\n",
       "        vertical-align: middle;\n",
       "    }\n",
       "\n",
       "    .dataframe tbody tr th {\n",
       "        vertical-align: top;\n",
       "    }\n",
       "\n",
       "    .dataframe thead th {\n",
       "        text-align: right;\n",
       "    }\n",
       "</style>\n",
       "<table border=\"1\" class=\"dataframe\">\n",
       "  <thead>\n",
       "    <tr style=\"text-align: right;\">\n",
       "      <th></th>\n",
       "      <th>timestamp</th>\n",
       "      <th>load</th>\n",
       "      <th>weathertime</th>\n",
       "      <th>temperature</th>\n",
       "      <th>dewpoint</th>\n",
       "      <th>humidity</th>\n",
       "      <th>pressure</th>\n",
       "      <th>wind_dir</th>\n",
       "      <th>wind_speed</th>\n",
       "      <th>precip</th>\n",
       "      <th>...</th>\n",
       "      <th>uv_index</th>\n",
       "      <th>dow</th>\n",
       "      <th>doy</th>\n",
       "      <th>day</th>\n",
       "      <th>month</th>\n",
       "      <th>hour</th>\n",
       "      <th>minute</th>\n",
       "      <th>t_m24</th>\n",
       "      <th>t_m48</th>\n",
       "      <th>tdif</th>\n",
       "    </tr>\n",
       "  </thead>\n",
       "  <tbody>\n",
       "    <tr>\n",
       "      <th>0</th>\n",
       "      <td>2012-10-27 00:05:00</td>\n",
       "      <td>700.7</td>\n",
       "      <td>2012-10-27 00:08:00</td>\n",
       "      <td>11.2</td>\n",
       "      <td>9.9</td>\n",
       "      <td>92</td>\n",
       "      <td>1018.8</td>\n",
       "      <td>SW</td>\n",
       "      <td>4.8</td>\n",
       "      <td>0.0</td>\n",
       "      <td>...</td>\n",
       "      <td>0.0</td>\n",
       "      <td>5</td>\n",
       "      <td>301</td>\n",
       "      <td>27</td>\n",
       "      <td>10</td>\n",
       "      <td>0</td>\n",
       "      <td>5</td>\n",
       "      <td>700.7</td>\n",
       "      <td>700.7</td>\n",
       "      <td>0.0</td>\n",
       "    </tr>\n",
       "    <tr>\n",
       "      <th>1</th>\n",
       "      <td>2012-10-27 00:10:00</td>\n",
       "      <td>694.7</td>\n",
       "      <td>2012-10-27 00:08:00</td>\n",
       "      <td>11.2</td>\n",
       "      <td>9.9</td>\n",
       "      <td>92</td>\n",
       "      <td>1018.8</td>\n",
       "      <td>SW</td>\n",
       "      <td>4.8</td>\n",
       "      <td>0.0</td>\n",
       "      <td>...</td>\n",
       "      <td>0.0</td>\n",
       "      <td>5</td>\n",
       "      <td>301</td>\n",
       "      <td>27</td>\n",
       "      <td>10</td>\n",
       "      <td>0</td>\n",
       "      <td>10</td>\n",
       "      <td>694.7</td>\n",
       "      <td>694.7</td>\n",
       "      <td>0.0</td>\n",
       "    </tr>\n",
       "    <tr>\n",
       "      <th>2</th>\n",
       "      <td>2012-10-27 00:15:00</td>\n",
       "      <td>692.8</td>\n",
       "      <td>2012-10-27 00:14:00</td>\n",
       "      <td>11.3</td>\n",
       "      <td>9.9</td>\n",
       "      <td>91</td>\n",
       "      <td>1018.8</td>\n",
       "      <td>SW</td>\n",
       "      <td>6.4</td>\n",
       "      <td>0.0</td>\n",
       "      <td>...</td>\n",
       "      <td>0.0</td>\n",
       "      <td>5</td>\n",
       "      <td>301</td>\n",
       "      <td>27</td>\n",
       "      <td>10</td>\n",
       "      <td>0</td>\n",
       "      <td>15</td>\n",
       "      <td>692.8</td>\n",
       "      <td>692.8</td>\n",
       "      <td>0.0</td>\n",
       "    </tr>\n",
       "    <tr>\n",
       "      <th>3</th>\n",
       "      <td>2012-10-27 00:20:00</td>\n",
       "      <td>686.5</td>\n",
       "      <td>2012-10-27 00:25:00</td>\n",
       "      <td>11.2</td>\n",
       "      <td>9.9</td>\n",
       "      <td>92</td>\n",
       "      <td>1018.8</td>\n",
       "      <td>SW</td>\n",
       "      <td>3.2</td>\n",
       "      <td>0.0</td>\n",
       "      <td>...</td>\n",
       "      <td>0.0</td>\n",
       "      <td>5</td>\n",
       "      <td>301</td>\n",
       "      <td>27</td>\n",
       "      <td>10</td>\n",
       "      <td>0</td>\n",
       "      <td>20</td>\n",
       "      <td>686.5</td>\n",
       "      <td>686.5</td>\n",
       "      <td>0.0</td>\n",
       "    </tr>\n",
       "    <tr>\n",
       "      <th>4</th>\n",
       "      <td>2012-10-27 00:25:00</td>\n",
       "      <td>685.3</td>\n",
       "      <td>2012-10-27 00:25:00</td>\n",
       "      <td>11.2</td>\n",
       "      <td>9.9</td>\n",
       "      <td>92</td>\n",
       "      <td>1018.8</td>\n",
       "      <td>SW</td>\n",
       "      <td>3.2</td>\n",
       "      <td>0.0</td>\n",
       "      <td>...</td>\n",
       "      <td>0.0</td>\n",
       "      <td>5</td>\n",
       "      <td>301</td>\n",
       "      <td>27</td>\n",
       "      <td>10</td>\n",
       "      <td>0</td>\n",
       "      <td>25</td>\n",
       "      <td>685.3</td>\n",
       "      <td>685.3</td>\n",
       "      <td>0.0</td>\n",
       "    </tr>\n",
       "  </tbody>\n",
       "</table>\n",
       "<p>5 rows × 21 columns</p>\n",
       "</div>"
      ],
      "text/plain": [
       "             timestamp   load          weathertime  temperature  dewpoint  \\\n",
       "0  2012-10-27 00:05:00  700.7  2012-10-27 00:08:00         11.2       9.9   \n",
       "1  2012-10-27 00:10:00  694.7  2012-10-27 00:08:00         11.2       9.9   \n",
       "2  2012-10-27 00:15:00  692.8  2012-10-27 00:14:00         11.3       9.9   \n",
       "3  2012-10-27 00:20:00  686.5  2012-10-27 00:25:00         11.2       9.9   \n",
       "4  2012-10-27 00:25:00  685.3  2012-10-27 00:25:00         11.2       9.9   \n",
       "\n",
       "   humidity  pressure wind_dir  wind_speed  precip  ...   uv_index  dow  doy  \\\n",
       "0        92    1018.8       SW         4.8     0.0  ...        0.0    5  301   \n",
       "1        92    1018.8       SW         4.8     0.0  ...        0.0    5  301   \n",
       "2        91    1018.8       SW         6.4     0.0  ...        0.0    5  301   \n",
       "3        92    1018.8       SW         3.2     0.0  ...        0.0    5  301   \n",
       "4        92    1018.8       SW         3.2     0.0  ...        0.0    5  301   \n",
       "\n",
       "   day  month  hour  minute  t_m24  t_m48  tdif  \n",
       "0   27     10     0       5  700.7  700.7   0.0  \n",
       "1   27     10     0      10  694.7  694.7   0.0  \n",
       "2   27     10     0      15  692.8  692.8   0.0  \n",
       "3   27     10     0      20  686.5  686.5   0.0  \n",
       "4   27     10     0      25  685.3  685.3   0.0  \n",
       "\n",
       "[5 rows x 21 columns]"
      ]
     },
     "execution_count": 2,
     "metadata": {},
     "output_type": "execute_result"
    }
   ],
   "source": [
    "full = pd.read_csv('full_feature_cleaned.csv')\n",
    "full.head()"
   ]
  },
  {
   "cell_type": "markdown",
   "metadata": {},
   "source": [
    "#### Gradient Boosting Regression"
   ]
  },
  {
   "cell_type": "code",
   "execution_count": 3,
   "metadata": {},
   "outputs": [
    {
     "data": {
      "text/plain": [
       "Index(['timestamp', 'load', 'weathertime', 'temperature', 'dewpoint',\n",
       "       'humidity', 'pressure', 'wind_dir', 'wind_speed', 'precip',\n",
       "       'solarradiation', 'uv_index', 'dow', 'doy', 'day', 'month', 'hour',\n",
       "       'minute', 't_m24', 't_m48', 'tdif'],\n",
       "      dtype='object')"
      ]
     },
     "execution_count": 3,
     "metadata": {},
     "output_type": "execute_result"
    }
   ],
   "source": [
    "full.columns"
   ]
  },
  {
   "cell_type": "code",
   "execution_count": 62,
   "metadata": {},
   "outputs": [],
   "source": [
    "features = [\n",
    "    'temperature', \n",
    "    'dewpoint',\n",
    "    'humidity', \n",
    "    'pressure', \n",
    "    'wind_speed', \n",
    "    'precip',\n",
    "    'solarradiation', \n",
    "    'uv_index', \n",
    "    'dow', \n",
    "    'doy', \n",
    "    'day', \n",
    "    'month', \n",
    "    'hour',\n",
    "    'minute', \n",
    "#     't_m24', \n",
    "#     't_m48', \n",
    "#     'tdif'\n",
    "]"
   ]
  },
  {
   "cell_type": "code",
   "execution_count": 63,
   "metadata": {},
   "outputs": [],
   "source": [
    "X = full[features]\n",
    "y = full['load']"
   ]
  },
  {
   "cell_type": "code",
   "execution_count": 64,
   "metadata": {},
   "outputs": [],
   "source": [
    "X_train, X_test, y_train, y_test = train_test_split(X, y, test_size=0.3, random_state=42)"
   ]
  },
  {
   "cell_type": "code",
   "execution_count": 65,
   "metadata": {},
   "outputs": [],
   "source": [
    "gbr = GradientBoostingRegressor(loss='ls', n_estimators=100, max_depth=5, verbose=1, warm_start=True, )"
   ]
  },
  {
   "cell_type": "code",
   "execution_count": 66,
   "metadata": {},
   "outputs": [
    {
     "name": "stdout",
     "output_type": "stream",
     "text": [
      "      Iter       Train Loss   Remaining Time \n",
      "         1       17879.4982           59.00s\n",
      "         2       16757.4074           57.36s\n",
      "         3       15839.5489           55.96s\n",
      "         4       15075.7638           56.28s\n",
      "         5       14428.7992           59.80s\n",
      "         6       13906.7635            1.02m\n",
      "         7       13440.8642           59.15s\n",
      "         8       13046.8385           59.17s\n",
      "         9       12692.5164           57.43s\n",
      "        10       12413.5518           57.66s\n",
      "        20       10848.4657           48.80s\n",
      "        30       10226.5599           40.32s\n",
      "        40        9724.7890           33.75s\n",
      "        50        9382.1286           27.68s\n",
      "        60        9168.1453           21.63s\n",
      "        70        8956.7336           15.83s\n",
      "        80        8717.8416           10.29s\n",
      "        90        8459.8503            5.08s\n",
      "       100        8186.0426            0.00s\n"
     ]
    }
   ],
   "source": [
    "gbr_fitted = gbr.fit(X_train, y_train)"
   ]
  },
  {
   "cell_type": "code",
   "execution_count": 70,
   "metadata": {},
   "outputs": [
    {
     "data": {
      "text/plain": [
       "0.57419066292816789"
      ]
     },
     "execution_count": 70,
     "metadata": {},
     "output_type": "execute_result"
    }
   ],
   "source": [
    "gbr.score(X_test, y_test)"
   ]
  },
  {
   "cell_type": "code",
   "execution_count": 71,
   "metadata": {},
   "outputs": [
    {
     "data": {
      "text/plain": [
       "array([  1.52082165e-01,   1.15121929e-01,   5.05812918e-02,\n",
       "         1.24392351e-01,   3.08138495e-02,   1.79621336e-02,\n",
       "         7.29367297e-03,   1.31118840e-02,   4.66312398e-02,\n",
       "         2.77192810e-01,   1.02430021e-01,   8.21324765e-03,\n",
       "         2.49409276e-04,   5.39239962e-02])"
      ]
     },
     "execution_count": 71,
     "metadata": {},
     "output_type": "execute_result"
    }
   ],
   "source": [
    "gbr.feature_importances_"
   ]
  },
  {
   "cell_type": "code",
   "execution_count": 72,
   "metadata": {
    "scrolled": true
   },
   "outputs": [
    {
     "name": "stdout",
     "output_type": "stream",
     "text": [
      "('temperature', 0.1521)\n",
      "('dewpoint', 0.1151)\n",
      "('humidity', 0.0506)\n",
      "('pressure', 0.1244)\n",
      "('wind_speed', 0.0308)\n",
      "('precip', 0.018)\n",
      "('solarradiation', 0.0073)\n",
      "('uv_index', 0.0131)\n",
      "('dow', 0.0466)\n",
      "('doy', 0.2772)\n",
      "('day', 0.1024)\n",
      "('month', 0.0082)\n",
      "('hour', 0.0002)\n",
      "('minute', 0.0539)\n"
     ]
    }
   ],
   "source": [
    "for i in zip(features,[round(float(i), 4) for i in gbr.feature_importances_]):\n",
    "    print(i)"
   ]
  },
  {
   "cell_type": "code",
   "execution_count": 73,
   "metadata": {},
   "outputs": [
    {
     "data": {
      "text/plain": [
       "[Text(0,0,'temperature'),\n",
       " Text(0,0,'dewpoint'),\n",
       " Text(0,0,'humidity'),\n",
       " Text(0,0,'pressure'),\n",
       " Text(0,0,'wind_speed'),\n",
       " Text(0,0,'precip'),\n",
       " Text(0,0,'solarradiation'),\n",
       " Text(0,0,'uv_index'),\n",
       " Text(0,0,'dow'),\n",
       " Text(0,0,'doy'),\n",
       " Text(0,0,'day'),\n",
       " Text(0,0,'month'),\n",
       " Text(0,0,'hour'),\n",
       " Text(0,0,'minute')]"
      ]
     },
     "execution_count": 73,
     "metadata": {},
     "output_type": "execute_result"
    },
    {
     "data": {
      "image/png": "[encoded data removed]",
      "text/plain": [
       "<matplotlib.figure.Figure at 0x7f460523a0b8>"
      ]
     },
     "metadata": {},
     "output_type": "display_data"
    }
   ],
   "source": [
    "fi = [round(float(i), 4) for i in gbr.feature_importances_]\n",
    "fig,ax = plt.subplots(figsize=(15,7),)\n",
    "ax.barh(np.arange(len(fi)), fi)\n",
    "for i,v in enumerate(fi):\n",
    "    ax.text(v, i, str(v))\n",
    "ax.set_yticks(np.arange(len(fi)))\n",
    "ax.set_yticklabels(features)"
   ]
  },
  {
   "cell_type": "code",
   "execution_count": 76,
   "metadata": {},
   "outputs": [],
   "source": [
    "new_features = [\n",
    "    'temperature', \n",
    "    'dewpoint',\n",
    "    'humidity', \n",
    "    'pressure', \n",
    "    'wind_speed', \n",
    "#     'precip',\n",
    "#     'solarradiation', \n",
    "#     'uv_index', \n",
    "    'dow', \n",
    "    'doy', \n",
    "    'day', \n",
    "#     'month', \n",
    "#     'hour',\n",
    "    'minute', \n",
    "#     't_m24', \n",
    "#     't_m48', \n",
    "#     'tdif'\n",
    "]"
   ]
  },
  {
   "cell_type": "code",
   "execution_count": 77,
   "metadata": {},
   "outputs": [],
   "source": [
    "from sklearn.model_selection import GridSearchCV\n",
    "from xgboost import XGBRegressor"
   ]
  },
  {
   "cell_type": "code",
   "execution_count": 79,
   "metadata": {},
   "outputs": [
    {
     "name": "stdout",
     "output_type": "stream",
     "text": [
      "the best params are:  {'n_estimators': 500, 'max_depth': 5}\n",
      "the best score is:  -3268.43667291\n"
     ]
    }
   ],
   "source": [
    "n_estimators = [50, 100, 150, 200, 300, 400, 500]\n",
    "max_depth = np.arange(2,6)\n",
    "parameters = dict(n_estimators=n_estimators, max_depth=max_depth)\n",
    "# parameters = dict(max_depth=max_depth)\n",
    "gbr2 = GradientBoostingRegressor(random_state=40)\n",
    "grid = GridSearchCV(gbr2, param_grid=parameters, scoring='neg_mean_squared_error')\n",
    "grid.fit(X_train, y_train)\n",
    "print('the best params are: ', grid.best_params_)\n",
    "print('the best score is: ', grid.best_score_)"
   ]
  },
  {
   "cell_type": "markdown",
   "metadata": {},
   "source": [
    "#### XGboost"
   ]
  },
  {
   "cell_type": "code",
   "execution_count": 80,
   "metadata": {},
   "outputs": [],
   "source": [
    "xgb = XGBRegressor(eta=0.1, colsample_bytree=0.5, subsample=0.5, \n",
    "                       max_depth=5, min_child_weight=3)"
   ]
  },
  {
   "cell_type": "code",
   "execution_count": null,
   "metadata": {},
   "outputs": [],
   "source": []
  }
 ],
 "metadata": {
  "kernelspec": {
   "display_name": "Python 3",
   "language": "python",
   "name": "python3"
  },
  "language_info": {
   "codemirror_mode": {
    "name": "ipython",
    "version": 3
   },
   "file_extension": ".py",
   "mimetype": "text/x-python",
   "name": "python",
   "nbconvert_exporter": "python",
   "pygments_lexer": "ipython3",
   "version": "3.5.2"
  }
 },
 "nbformat": 4,
 "nbformat_minor": 2
}
