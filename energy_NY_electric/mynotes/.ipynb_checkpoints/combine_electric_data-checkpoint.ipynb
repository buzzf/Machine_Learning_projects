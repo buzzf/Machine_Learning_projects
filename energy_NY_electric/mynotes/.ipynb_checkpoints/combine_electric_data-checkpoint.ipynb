{
 "cells": [
  {
   "cell_type": "code",
   "execution_count": 2,
   "metadata": {},
   "outputs": [],
   "source": [
    "import zipfile\n",
    "import os\n",
    "import pandas as pd\n",
    "import numpy as np"
   ]
  },
  {
   "cell_type": "markdown",
   "metadata": {},
   "source": [
    "#### 解压缩打包文件 ../data/nyiso/all/raw_data 文件夹"
   ]
  },
  {
   "cell_type": "code",
   "execution_count": 2,
   "metadata": {},
   "outputs": [],
   "source": [
    "def unzip(source_filename, dest_dir):\n",
    "    with zipfile.ZipFile(source_filename) as zf:\n",
    "        try:\n",
    "            zf.extractall(dest_dir)\n",
    "        except:\n",
    "            print(source_filename)\n",
    "            return\n"
   ]
  },
  {
   "cell_type": "code",
   "execution_count": 3,
   "metadata": {},
   "outputs": [
    {
     "name": "stdout",
     "output_type": "stream",
     "text": [
      "../data/nyiso/zips/20120601pal_csv.zipextract done!\n",
      "../data/nyiso/zips/20031001pal_csv.zipextract done!\n",
      "../data/nyiso/zips/20020801pal_csv.zipextract done!\n",
      "../data/nyiso/zips/20121001pal_csv.zipextract done!\n",
      "../data/nyiso/zips/20080301pal_csv.zipextract done!\n",
      "../data/nyiso/zips/20030801pal_csv.zipextract done!\n",
      "../data/nyiso/zips/20150601pal_csv.zipextract done!\n",
      "../data/nyiso/zips/20070401pal_csv.zipextract done!\n",
      "../data/nyiso/zips/20101101pal_csv.zipextract done!\n",
      "../data/nyiso/zips/20130601pal_csv.zipextract done!\n",
      "../data/nyiso/zips/20140401pal_csv.zipextract done!\n",
      "../data/nyiso/zips/20101001pal_csv.zipextract done!\n",
      "../data/nyiso/zips/20050201pal_csv.zipextract done!\n",
      "../data/nyiso/zips/20090701pal_csv.zipextract done!\n",
      "../data/nyiso/zips/20111101pal_csv.zipextract done!\n",
      "../data/nyiso/zips/20100601pal_csv.zipextract done!\n",
      "../data/nyiso/zips/20100801pal_csv.zipextract done!\n",
      "../data/nyiso/zips/20050801pal_csv.zipextract done!\n",
      "../data/nyiso/zips/20141201pal_csv.zipextract done!\n",
      "../data/nyiso/zips/20080201pal_csv.zipextract done!\n",
      "../data/nyiso/zips/20150801pal_csv.zipextract done!\n",
      "../data/nyiso/zips/20061201pal_csv.zipextract done!\n",
      "../data/nyiso/zips/20030701pal_csv.zipextract done!\n",
      "../data/nyiso/zips/20120201pal_csv.zipextract done!\n",
      "../data/nyiso/zips/20030301pal_csv.zipextract done!\n",
      "../data/nyiso/zips/20050901pal_csv.zipextract done!\n",
      "../data/nyiso/zips/20040701pal_csv.zipextract done!\n",
      "../data/nyiso/zips/20101201pal_csv.zipextract done!\n",
      "../data/nyiso/zips/20040601pal_csv.zipextract done!\n",
      "../data/nyiso/zips/20010501pal_csv.zipextract done!\n",
      "../data/nyiso/zips/20051101pal_csv.zipextract done!\n",
      "../data/nyiso/zips/20070801pal_csv.zipextract done!\n",
      "../data/nyiso/zips/20030201pal_csv.zipextract done!\n",
      "../data/nyiso/zips/20110601pal_csv.zipextract done!\n",
      "../data/nyiso/zips/20130101pal_csv.zipextract done!\n",
      "../data/nyiso/zips/20060401pal_csv.zipextract done!\n",
      "../data/nyiso/zips/20060901pal_csv.zipextract done!\n",
      "../data/nyiso/zips/20020501pal_csv.zipextract done!\n",
      "../data/nyiso/zips/20040101pal_csv.zipextract done!\n",
      "../data/nyiso/zips/20120301pal_csv.zipextract done!\n",
      "../data/nyiso/zips/20140201pal_csv.zipextract done!\n",
      "../data/nyiso/zips/20030401pal_csv.zipextract done!\n",
      "../data/nyiso/zips/20140601pal_csv.zipextract done!\n",
      "../data/nyiso/zips/20060601pal_csv.zipextract done!\n",
      "../data/nyiso/zips/20080501pal_csv.zipextract done!\n",
      "../data/nyiso/zips/20100301pal_csv.zipextract done!\n",
      "../data/nyiso/zips/20080901pal_csv.zipextract done!\n",
      "../data/nyiso/zips/20121101pal_csv.zipextract done!\n",
      "../data/nyiso/zips/20070501pal_csv.zipextract done!\n",
      "../data/nyiso/zips/20031201pal_csv.zipextract done!\n",
      "../data/nyiso/zips/20120801pal_csv.zipextract done!\n",
      "../data/nyiso/zips/20061001pal_csv.zipextract done!\n",
      "../data/nyiso/zips/20110901pal_csv.zipextract done!\n",
      "../data/nyiso/zips/20151101pal_csv.zipextract done!\n",
      "../data/nyiso/zips/20020701pal_csv.zipextract done!\n",
      "../data/nyiso/zips/20110501pal_csv.zipextract done!\n",
      "../data/nyiso/zips/20091101pal_csv.zipextract done!\n",
      "../data/nyiso/zips/20071201pal_csv.zipextract done!\n",
      "../data/nyiso/zips/20080101pal_csv.zipextract done!\n",
      "../data/nyiso/zips/20091201pal_csv.zipextract done!\n",
      "../data/nyiso/zips/20070701pal_csv.zipextract done!\n",
      "../data/nyiso/zips/20020101pal_csv.zipextract done!\n",
      "../data/nyiso/zips/20050701pal_csv.zipextract done!\n",
      "../data/nyiso/zips/20031101pal_csv.zipextract done!\n",
      "../data/nyiso/zips/20040201pal_csv.zipextract done!\n",
      "../data/nyiso/zips/20110101pal_csv.zipextract done!\n",
      "../data/nyiso/zips/20140701pal_csv.zipextract done!\n",
      "../data/nyiso/zips/20090501pal_csv.zipextract done!\n",
      "../data/nyiso/zips/20141001pal_csv.zipextract done!\n",
      "../data/nyiso/zips/20020401pal_csv.zipextract done!\n",
      "../data/nyiso/zips/20111001pal_csv.zipextract done!\n",
      "../data/nyiso/zips/20011001pal_csv.zipextract done!\n",
      "../data/nyiso/zips/20130901pal_csv.zipextract done!\n",
      "../data/nyiso/zips/20120401pal_csv.zipextract done!\n",
      "../data/nyiso/zips/20140501pal_csv.zipextract done!\n",
      "../data/nyiso/zips/20041001pal_csv.zipextract done!\n",
      "../data/nyiso/zips/20140901pal_csv.zipextract done!\n",
      "../data/nyiso/zips/20140301pal_csv.zipextract done!\n",
      "../data/nyiso/zips/20010601pal_csv.zipextract done!\n",
      "../data/nyiso/zips/20060301pal_csv.zipextract done!\n",
      "../data/nyiso/zips/20070901pal_csv.zipextract done!\n",
      "../data/nyiso/zips/20100201pal_csv.zipextract done!\n",
      "../data/nyiso/zips/20061101pal_csv.zipextract done!\n",
      "../data/nyiso/zips/20030901pal_csv.zipextract done!\n",
      "../data/nyiso/zips/20120901pal_csv.zipextract done!\n",
      "../data/nyiso/zips/20081101pal_csv.zipextract done!\n",
      "../data/nyiso/zips/20021001pal_csv.zipextract done!\n",
      "../data/nyiso/zips/20081201pal_csv.zipextract done!\n",
      "../data/nyiso/zips/20150301pal_csv.zipextract done!\n",
      "../data/nyiso/zips/20090601pal_csv.zipextract done!\n",
      "../data/nyiso/zips/20080701pal_csv.zipextract done!\n",
      "../data/nyiso/zips/20011201pal_csv.zipextract done!\n",
      "../data/nyiso/zips/20021101pal_csv.zipextract done!\n",
      "../data/nyiso/zips/20041201pal_csv.zipextract done!\n",
      "../data/nyiso/zips/20010701pal_csv.zipextract done!\n",
      "../data/nyiso/zips/20090401pal_csv.zipextract done!\n",
      "../data/nyiso/zips/20150101pal_csv.zipextract done!\n",
      "../data/nyiso/zips/20020901pal_csv.zipextract done!\n",
      "../data/nyiso/zips/20050501pal_csv.zipextract done!\n",
      "../data/nyiso/zips/20150401pal_csv.zipextract done!\n",
      "../data/nyiso/zips/20070201pal_csv.zipextract done!\n",
      "../data/nyiso/zips/20091001pal_csv.zipextract done!\n",
      "../data/nyiso/zips/20021201pal_csv.zipextract done!\n",
      "../data/nyiso/zips/20100101pal_csv.zipextract done!\n",
      "../data/nyiso/zips/20060201pal_csv.zipextract done!\n",
      "../data/nyiso/zips/20130801pal_csv.zipextract done!\n",
      "../data/nyiso/zips/20070601pal_csv.zipextract done!\n",
      "../data/nyiso/zips/20140101pal_csv.zipextract done!\n",
      "../data/nyiso/zips/20110301pal_csv.zipextract done!\n",
      "../data/nyiso/zips/20060101pal_csv.zipextract done!\n",
      "../data/nyiso/zips/20050601pal_csv.zipextract done!\n",
      "../data/nyiso/zips/20111201pal_csv.zipextract done!\n",
      "../data/nyiso/zips/20121201pal_csv.zipextract done!\n",
      "../data/nyiso/zips/20030601pal_csv.zipextract done!\n",
      "../data/nyiso/zips/20010901pal_csv.zipextract done!\n",
      "../data/nyiso/zips/20150901pal_csv.zipextract done!\n",
      "../data/nyiso/zips/20071101pal_csv.zipextract done!\n",
      "../data/nyiso/zips/20020301pal_csv.zipextract done!\n",
      "../data/nyiso/zips/20130301pal_csv.zipextract done!\n",
      "../data/nyiso/zips/20100401pal_csv.zipextract done!\n",
      "../data/nyiso/zips/20080601pal_csv.zipextract done!\n",
      "../data/nyiso/zips/20060501pal_csv.zipextract done!\n",
      "../data/nyiso/zips/20010801pal_csv.zipextract done!\n",
      "../data/nyiso/zips/20081001pal_csv.zipextract done!\n",
      "../data/nyiso/zips/20020201pal_csv.zipextract done!\n",
      "../data/nyiso/zips/20040901pal_csv.zipextract done!\n",
      "../data/nyiso/zips/20131201pal_csv.zipextract done!\n",
      "../data/nyiso/zips/20090101pal_csv.zipextract done!\n",
      "../data/nyiso/zips/20080801pal_csv.zipextract done!\n",
      "../data/nyiso/zips/20090801pal_csv.zipextract done!\n",
      "../data/nyiso/zips/20130701pal_csv.zipextract done!\n",
      "../data/nyiso/zips/20130401pal_csv.zipextract done!\n",
      "../data/nyiso/zips/20100701pal_csv.zipextract done!\n",
      "../data/nyiso/zips/20100901pal_csv.zipextract done!\n",
      "../data/nyiso/zips/20041101pal_csv.zipextract done!\n",
      "../data/nyiso/zips/20110801pal_csv.zipextract done!\n",
      "../data/nyiso/zips/20131101pal_csv.zipextract done!\n",
      "../data/nyiso/zips/20071001pal_csv.zipextract done!\n",
      "../data/nyiso/zips/20070101pal_csv.zipextract done!\n",
      "../data/nyiso/zips/20040301pal_csv.zipextract done!\n",
      "../data/nyiso/zips/20050101pal_csv.zipextract done!\n",
      "../data/nyiso/zips/20150701pal_csv.zipextract done!\n",
      "../data/nyiso/zips/20050301pal_csv.zipextract done!\n",
      "../data/nyiso/zips/20051001pal_csv.zipextract done!\n",
      "../data/nyiso/zips/20030501pal_csv.zipextract done!\n",
      "../data/nyiso/zips/20120101pal_csv.zipextract done!\n",
      "../data/nyiso/zips/20030101pal_csv.zipextract done!\n",
      "../data/nyiso/zips/20090301pal_csv.zipextract done!\n",
      "../data/nyiso/zips/20120701pal_csv.zipextract done!\n",
      "../data/nyiso/zips/20060801pal_csv.zipextract done!\n",
      "../data/nyiso/zips/20080401pal_csv.zipextract done!\n",
      "../data/nyiso/zips/20040401pal_csv.zipextract done!\n",
      "../data/nyiso/zips/20050401pal_csv.zipextract done!\n",
      "../data/nyiso/zips/20130501pal_csv.zipextract done!\n",
      "../data/nyiso/zips/20110701pal_csv.zipextract done!\n",
      "../data/nyiso/zips/20150501pal_csv.zipextract done!\n",
      "../data/nyiso/zips/20020601pal_csv.zipextract done!\n",
      "../data/nyiso/zips/20120501pal_csv.zipextract done!\n"
     ]
    },
    {
     "name": "stdout",
     "output_type": "stream",
     "text": [
      "../data/nyiso/zips/20110401pal_csv.zipextract done!\n",
      "../data/nyiso/zips/20090201pal_csv.zipextract done!\n",
      "../data/nyiso/zips/20060701pal_csv.zipextract done!\n",
      "../data/nyiso/zips/20150201pal_csv.zipextract done!\n",
      "../data/nyiso/zips/20130201pal_csv.zipextract done!\n",
      "../data/nyiso/zips/20151201pal_csv.zipextract done!\n",
      "../data/nyiso/zips/20040801pal_csv.zipextract done!\n",
      "../data/nyiso/zips/20051201pal_csv.zipextract done!\n",
      "../data/nyiso/zips/20131001pal_csv.zipextract done!\n",
      "../data/nyiso/zips/20070301pal_csv.zipextract done!\n",
      "../data/nyiso/zips/20040501pal_csv.zipextract done!\n",
      "../data/nyiso/zips/20090901pal_csv.zipextract done!\n",
      "../data/nyiso/zips/20140801pal_csv.zipextract done!\n",
      "../data/nyiso/zips/20151001pal_csv.zipextract done!\n",
      "../data/nyiso/zips/20100501pal_csv.zipextract done!\n",
      "../data/nyiso/zips/20141101pal_csv.zipextract done!\n",
      "../data/nyiso/zips/20011101pal_csv.zipextract done!\n",
      "../data/nyiso/zips/20110201pal_csv.zipextract done!\n"
     ]
    }
   ],
   "source": [
    "zips = []\n",
    "for file in os.listdir(\"../data/nyiso/zips\"):\n",
    "    if file.endswith(\".zip\"):\n",
    "        zips.append(file)\n",
    "for z in zips:\n",
    "    try:\n",
    "        unzip('../data/nyiso/zips/' + z, '../data/nyiso/all/raw_data')\n",
    "        print('../data/nyiso/zips/' + z + \"extract done!\")\n",
    "    except:\n",
    "        print('./data/nyiso/zips/' + z)\n",
    "        continue"
   ]
  },
  {
   "cell_type": "markdown",
   "metadata": {},
   "source": [
    "##### 所有文件整合到合并文件里：  combined_nyiso.csv"
   ]
  },
  {
   "cell_type": "code",
   "execution_count": 4,
   "metadata": {},
   "outputs": [],
   "source": [
    "csvs = []\n",
    "for file in os.listdir(\"../data/nyiso/all/raw_data\"):\n",
    "    if file.endswith(\"pal.csv\"):\n",
    "        csvs.append(file)"
   ]
  },
  {
   "cell_type": "code",
   "execution_count": 6,
   "metadata": {},
   "outputs": [],
   "source": [
    "fout=open(\"../data/nyiso/all/combined_nyiso.csv\",\"a\")\n",
    "\n",
    "# 第一个文件咱们保存头部column name信息:\n",
    "for line in open(\"../data/nyiso/all/raw_data/\"+csvs[0]):\n",
    "    fout.write(line)\n",
    "# 后面的部分可以跳过 headers:    \n",
    "for file in csvs[1:]:\n",
    "    f = open(\"../data/nyiso/all/raw_data/\"+file)\n",
    "    f.__next__() # 跳过 header\n",
    "    for line in f:\n",
    "         fout.write(line)\n",
    "    f.close() # 关闭文件\n",
    "fout.close()"
   ]
  },
  {
   "cell_type": "markdown",
   "metadata": {},
   "source": [
    "#### 清洗和了解数据"
   ]
  },
  {
   "cell_type": "code",
   "execution_count": 7,
   "metadata": {},
   "outputs": [],
   "source": [
    "df = pd.read_csv('../data/nyiso/all/combined_nyiso.csv')"
   ]
  },
  {
   "cell_type": "code",
   "execution_count": 9,
   "metadata": {},
   "outputs": [
    {
     "data": {
      "text/plain": [
       "Index(['Time Stamp', 'Time Zone', 'Name', 'PTID', 'Load'], dtype='object')"
      ]
     },
     "execution_count": 9,
     "metadata": {},
     "output_type": "execute_result"
    }
   ],
   "source": [
    "cols = df.columns\n",
    "cols"
   ]
  },
  {
   "cell_type": "code",
   "execution_count": 10,
   "metadata": {},
   "outputs": [],
   "source": [
    "df.columns = [col.lower().replace(' ', '') for col in cols]\n",
    "df = df[['timestamp', 'name', 'ptid', 'load']]"
   ]
  },
  {
   "cell_type": "code",
   "execution_count": 11,
   "metadata": {},
   "outputs": [],
   "source": [
    "df.to_csv('../data/nyiso/all/combined_iso.csv', index=False)"
   ]
  },
  {
   "cell_type": "code",
   "execution_count": 17,
   "metadata": {},
   "outputs": [
    {
     "data": {
      "text/plain": [
       "array(['CAPITL', 'CENTRL', 'DUNWOD', 'GENESE', 'HUD VL', 'LONGIL',\n",
       "       'MHK VL', 'MILLWD', 'N.Y.C.', 'NORTH', 'WEST', 'N.Y.C._LONGIL'], dtype=object)"
      ]
     },
     "execution_count": 17,
     "metadata": {},
     "output_type": "execute_result"
    }
   ],
   "source": [
    "df.name.unique()"
   ]
  },
  {
   "cell_type": "markdown",
   "metadata": {},
   "source": [
    "#### 建立天气站/weather stations的映射关系\n",
    "我们的数据帧里区域的名称已经有了，我们要建立起它们和对应的城市还有天气站之间的映射关系"
   ]
  },
  {
   "cell_type": "code",
   "execution_count": 26,
   "metadata": {},
   "outputs": [
    {
     "data": {
      "text/plain": [
       "['CAPITL',\n",
       " 'CENTRL',\n",
       " 'DUNWOD',\n",
       " 'GENESE',\n",
       " 'HUD VL',\n",
       " 'LONGIL',\n",
       " 'MHK VL',\n",
       " 'MILLWD',\n",
       " 'N.Y.C.',\n",
       " 'NORTH',\n",
       " 'WEST']"
      ]
     },
     "execution_count": 26,
     "metadata": {},
     "output_type": "execute_result"
    }
   ],
   "source": [
    "regions = list(df.name.unique())[:-1]\n",
    "regions"
   ]
  },
  {
   "cell_type": "code",
   "execution_count": 27,
   "metadata": {},
   "outputs": [],
   "source": [
    "region_names = ['Capital', 'Central', 'Dunwoodie', 'Genese', 'Hudson Valley', 'Long Island', 'Mohawk Valley', 'Millwood', 'NYC', 'North', 'West']\n",
    "cities = ['Albany', 'Syracuse', 'Yonkers', 'Rochester', 'Poughkeepsie', 'Huntington', 'Utica', 'Yorktown', 'NYC', 'Plattsburgh', 'Buffalo']\n",
    "weather_stations = ['kalb', 'ksyr', 'kyon', 'kroc', 'kpou', 'khun', 'kuti', 'kyor', 'kjfk', 'kpbg', 'kbuf']"
   ]
  },
  {
   "cell_type": "code",
   "execution_count": 28,
   "metadata": {},
   "outputs": [
    {
     "data": {
      "text/plain": [
       "{'CAPITL': ('kalb', 'Capital', 'Albany'),\n",
       " 'CENTRL': ('ksyr', 'Central', 'Syracuse'),\n",
       " 'DUNWOD': ('kyon', 'Dunwoodie', 'Yonkers'),\n",
       " 'GENESE': ('kroc', 'Genese', 'Rochester'),\n",
       " 'HUD VL': ('kpou', 'Hudson Valley', 'Poughkeepsie'),\n",
       " 'LONGIL': ('khun', 'Long Island', 'Huntington'),\n",
       " 'MHK VL': ('kuti', 'Mohawk Valley', 'Utica'),\n",
       " 'MILLWD': ('kyor', 'Millwood', 'Yorktown'),\n",
       " 'N.Y.C.': ('kjfk', 'NYC', 'NYC'),\n",
       " 'NORTH': ('kpbg', 'North', 'Plattsburgh'),\n",
       " 'WEST': ('kbuf', 'West', 'Buffalo')}"
      ]
     },
     "execution_count": 28,
     "metadata": {},
     "output_type": "execute_result"
    }
   ],
   "source": [
    "weather_dict = dict(zip(regions, zip(weather_stations, region_names, cities)))\n",
    "weather_dict"
   ]
  },
  {
   "cell_type": "code",
   "execution_count": 31,
   "metadata": {},
   "outputs": [
    {
     "data": {
      "text/html": [
       "<div>\n",
       "<style scoped>\n",
       "    .dataframe tbody tr th:only-of-type {\n",
       "        vertical-align: middle;\n",
       "    }\n",
       "\n",
       "    .dataframe tbody tr th {\n",
       "        vertical-align: top;\n",
       "    }\n",
       "\n",
       "    .dataframe thead th {\n",
       "        text-align: right;\n",
       "    }\n",
       "</style>\n",
       "<table border=\"1\" class=\"dataframe\">\n",
       "  <thead>\n",
       "    <tr style=\"text-align: right;\">\n",
       "      <th></th>\n",
       "      <th>timestamp</th>\n",
       "      <th>name</th>\n",
       "      <th>ptid</th>\n",
       "      <th>load</th>\n",
       "    </tr>\n",
       "  </thead>\n",
       "  <tbody>\n",
       "    <tr>\n",
       "      <th>17932770</th>\n",
       "      <td>04/24/2012 23:55:00</td>\n",
       "      <td>MHK VL</td>\n",
       "      <td>61756.0</td>\n",
       "      <td>723.1</td>\n",
       "    </tr>\n",
       "    <tr>\n",
       "      <th>17932771</th>\n",
       "      <td>04/24/2012 23:55:00</td>\n",
       "      <td>MILLWD</td>\n",
       "      <td>61759.0</td>\n",
       "      <td>244.9</td>\n",
       "    </tr>\n",
       "    <tr>\n",
       "      <th>17932772</th>\n",
       "      <td>04/24/2012 23:55:00</td>\n",
       "      <td>N.Y.C.</td>\n",
       "      <td>61761.0</td>\n",
       "      <td>4829.8</td>\n",
       "    </tr>\n",
       "    <tr>\n",
       "      <th>17932773</th>\n",
       "      <td>04/24/2012 23:55:00</td>\n",
       "      <td>NORTH</td>\n",
       "      <td>61755.0</td>\n",
       "      <td>710.3</td>\n",
       "    </tr>\n",
       "    <tr>\n",
       "      <th>17932774</th>\n",
       "      <td>04/24/2012 23:55:00</td>\n",
       "      <td>WEST</td>\n",
       "      <td>61752.0</td>\n",
       "      <td>1697.9</td>\n",
       "    </tr>\n",
       "  </tbody>\n",
       "</table>\n",
       "</div>"
      ],
      "text/plain": [
       "                    timestamp    name     ptid    load\n",
       "17932770  04/24/2012 23:55:00  MHK VL  61756.0   723.1\n",
       "17932771  04/24/2012 23:55:00  MILLWD  61759.0   244.9\n",
       "17932772  04/24/2012 23:55:00  N.Y.C.  61761.0  4829.8\n",
       "17932773  04/24/2012 23:55:00   NORTH  61755.0   710.3\n",
       "17932774  04/24/2012 23:55:00    WEST  61752.0  1697.9"
      ]
     },
     "execution_count": 31,
     "metadata": {},
     "output_type": "execute_result"
    }
   ],
   "source": [
    "df.tail()"
   ]
  },
  {
   "cell_type": "code",
   "execution_count": 9,
   "metadata": {},
   "outputs": [],
   "source": [
    "df = pd.read_csv('../data/nyiso/all/combined_iso.csv')"
   ]
  },
  {
   "cell_type": "code",
   "execution_count": 10,
   "metadata": {
    "scrolled": true
   },
   "outputs": [],
   "source": [
    "df_sorted = df.sort_values(by=['timestamp'])"
   ]
  },
  {
   "cell_type": "code",
   "execution_count": 11,
   "metadata": {},
   "outputs": [],
   "source": [
    "df_sorted.to_csv('../data/nyiso/all/combined_iso_sorted.csv', index=False)"
   ]
  },
  {
   "cell_type": "code",
   "execution_count": 13,
   "metadata": {},
   "outputs": [
    {
     "data": {
      "text/html": [
       "<div>\n",
       "<style scoped>\n",
       "    .dataframe tbody tr th:only-of-type {\n",
       "        vertical-align: middle;\n",
       "    }\n",
       "\n",
       "    .dataframe tbody tr th {\n",
       "        vertical-align: top;\n",
       "    }\n",
       "\n",
       "    .dataframe thead th {\n",
       "        text-align: right;\n",
       "    }\n",
       "</style>\n",
       "<table border=\"1\" class=\"dataframe\">\n",
       "  <thead>\n",
       "    <tr style=\"text-align: right;\">\n",
       "      <th></th>\n",
       "      <th>name</th>\n",
       "      <th>ptid</th>\n",
       "      <th>load</th>\n",
       "    </tr>\n",
       "    <tr>\n",
       "      <th>timestamp</th>\n",
       "      <th></th>\n",
       "      <th></th>\n",
       "      <th></th>\n",
       "    </tr>\n",
       "  </thead>\n",
       "  <tbody>\n",
       "    <tr>\n",
       "      <th>01/01/2002 00:00:00</th>\n",
       "      <td>NORTH</td>\n",
       "      <td>61755.0</td>\n",
       "      <td>788.0</td>\n",
       "    </tr>\n",
       "    <tr>\n",
       "      <th>01/01/2002 00:00:00</th>\n",
       "      <td>CAPITL</td>\n",
       "      <td>61757.0</td>\n",
       "      <td>1250.0</td>\n",
       "    </tr>\n",
       "    <tr>\n",
       "      <th>01/01/2002 00:00:00</th>\n",
       "      <td>CENTRL</td>\n",
       "      <td>61754.0</td>\n",
       "      <td>1833.0</td>\n",
       "    </tr>\n",
       "    <tr>\n",
       "      <th>01/01/2002 00:00:00</th>\n",
       "      <td>DUNWOD</td>\n",
       "      <td>61760.0</td>\n",
       "      <td>544.0</td>\n",
       "    </tr>\n",
       "    <tr>\n",
       "      <th>01/01/2002 00:00:00</th>\n",
       "      <td>GENESE</td>\n",
       "      <td>61753.0</td>\n",
       "      <td>1056.0</td>\n",
       "    </tr>\n",
       "  </tbody>\n",
       "</table>\n",
       "</div>"
      ],
      "text/plain": [
       "                       name     ptid    load\n",
       "timestamp                                   \n",
       "01/01/2002 00:00:00   NORTH  61755.0   788.0\n",
       "01/01/2002 00:00:00  CAPITL  61757.0  1250.0\n",
       "01/01/2002 00:00:00  CENTRL  61754.0  1833.0\n",
       "01/01/2002 00:00:00  DUNWOD  61760.0   544.0\n",
       "01/01/2002 00:00:00  GENESE  61753.0  1056.0"
      ]
     },
     "execution_count": 13,
     "metadata": {},
     "output_type": "execute_result"
    }
   ],
   "source": [
    "df = pd.read_csv('../data/nyiso/all/combined_iso_sorted.csv', index_col=0)\n",
    "df.head()"
   ]
  },
  {
   "cell_type": "code",
   "execution_count": 21,
   "metadata": {
    "scrolled": true
   },
   "outputs": [],
   "source": [
    "short_df = df.loc['10/27/2012':]"
   ]
  },
  {
   "cell_type": "code",
   "execution_count": 22,
   "metadata": {},
   "outputs": [
    {
     "data": {
      "text/html": [
       "<div>\n",
       "<style scoped>\n",
       "    .dataframe tbody tr th:only-of-type {\n",
       "        vertical-align: middle;\n",
       "    }\n",
       "\n",
       "    .dataframe tbody tr th {\n",
       "        vertical-align: top;\n",
       "    }\n",
       "\n",
       "    .dataframe thead th {\n",
       "        text-align: right;\n",
       "    }\n",
       "</style>\n",
       "<table border=\"1\" class=\"dataframe\">\n",
       "  <thead>\n",
       "    <tr style=\"text-align: right;\">\n",
       "      <th></th>\n",
       "      <th>name</th>\n",
       "      <th>ptid</th>\n",
       "      <th>load</th>\n",
       "    </tr>\n",
       "    <tr>\n",
       "      <th>timestamp</th>\n",
       "      <th></th>\n",
       "      <th></th>\n",
       "      <th></th>\n",
       "    </tr>\n",
       "  </thead>\n",
       "  <tbody>\n",
       "    <tr>\n",
       "      <th>10/27/2012 00:00:00</th>\n",
       "      <td>N.Y.C.</td>\n",
       "      <td>61761.0</td>\n",
       "      <td>4973.6</td>\n",
       "    </tr>\n",
       "    <tr>\n",
       "      <th>10/27/2012 00:00:00</th>\n",
       "      <td>MILLWD</td>\n",
       "      <td>61759.0</td>\n",
       "      <td>251.9</td>\n",
       "    </tr>\n",
       "    <tr>\n",
       "      <th>10/27/2012 00:00:00</th>\n",
       "      <td>MHK VL</td>\n",
       "      <td>61756.0</td>\n",
       "      <td>636.6</td>\n",
       "    </tr>\n",
       "    <tr>\n",
       "      <th>10/27/2012 00:00:00</th>\n",
       "      <td>CENTRL</td>\n",
       "      <td>61754.0</td>\n",
       "      <td>1435.7</td>\n",
       "    </tr>\n",
       "    <tr>\n",
       "      <th>10/27/2012 00:00:00</th>\n",
       "      <td>DUNWOD</td>\n",
       "      <td>61760.0</td>\n",
       "      <td>534.8</td>\n",
       "    </tr>\n",
       "  </tbody>\n",
       "</table>\n",
       "</div>"
      ],
      "text/plain": [
       "                       name     ptid    load\n",
       "timestamp                                   \n",
       "10/27/2012 00:00:00  N.Y.C.  61761.0  4973.6\n",
       "10/27/2012 00:00:00  MILLWD  61759.0   251.9\n",
       "10/27/2012 00:00:00  MHK VL  61756.0   636.6\n",
       "10/27/2012 00:00:00  CENTRL  61754.0  1435.7\n",
       "10/27/2012 00:00:00  DUNWOD  61760.0   534.8"
      ]
     },
     "execution_count": 22,
     "metadata": {},
     "output_type": "execute_result"
    }
   ],
   "source": [
    "short_df.head()"
   ]
  },
  {
   "cell_type": "code",
   "execution_count": 23,
   "metadata": {},
   "outputs": [
    {
     "data": {
      "text/html": [
       "<div>\n",
       "<style scoped>\n",
       "    .dataframe tbody tr th:only-of-type {\n",
       "        vertical-align: middle;\n",
       "    }\n",
       "\n",
       "    .dataframe tbody tr th {\n",
       "        vertical-align: top;\n",
       "    }\n",
       "\n",
       "    .dataframe thead th {\n",
       "        text-align: right;\n",
       "    }\n",
       "</style>\n",
       "<table border=\"1\" class=\"dataframe\">\n",
       "  <thead>\n",
       "    <tr style=\"text-align: right;\">\n",
       "      <th></th>\n",
       "      <th>name</th>\n",
       "      <th>ptid</th>\n",
       "      <th>load</th>\n",
       "    </tr>\n",
       "    <tr>\n",
       "      <th>timestamp</th>\n",
       "      <th></th>\n",
       "      <th></th>\n",
       "      <th></th>\n",
       "    </tr>\n",
       "  </thead>\n",
       "  <tbody>\n",
       "    <tr>\n",
       "      <th>12/31/2015 23:55:00</th>\n",
       "      <td>DUNWOD</td>\n",
       "      <td>61760.0</td>\n",
       "      <td>616.3</td>\n",
       "    </tr>\n",
       "    <tr>\n",
       "      <th>12/31/2015 23:55:00</th>\n",
       "      <td>CENTRL</td>\n",
       "      <td>61754.0</td>\n",
       "      <td>1609.5</td>\n",
       "    </tr>\n",
       "    <tr>\n",
       "      <th>12/31/2015 23:55:00</th>\n",
       "      <td>CAPITL</td>\n",
       "      <td>61757.0</td>\n",
       "      <td>1202.0</td>\n",
       "    </tr>\n",
       "    <tr>\n",
       "      <th>12/31/2015 23:55:00</th>\n",
       "      <td>LONGIL</td>\n",
       "      <td>61762.0</td>\n",
       "      <td>2119.6</td>\n",
       "    </tr>\n",
       "    <tr>\n",
       "      <th>12/31/2015 23:55:00</th>\n",
       "      <td>WEST</td>\n",
       "      <td>61752.0</td>\n",
       "      <td>1704.1</td>\n",
       "    </tr>\n",
       "  </tbody>\n",
       "</table>\n",
       "</div>"
      ],
      "text/plain": [
       "                       name     ptid    load\n",
       "timestamp                                   \n",
       "12/31/2015 23:55:00  DUNWOD  61760.0   616.3\n",
       "12/31/2015 23:55:00  CENTRL  61754.0  1609.5\n",
       "12/31/2015 23:55:00  CAPITL  61757.0  1202.0\n",
       "12/31/2015 23:55:00  LONGIL  61762.0  2119.6\n",
       "12/31/2015 23:55:00    WEST  61752.0  1704.1"
      ]
     },
     "execution_count": 23,
     "metadata": {},
     "output_type": "execute_result"
    }
   ],
   "source": [
    "short_df.tail()"
   ]
  },
  {
   "cell_type": "code",
   "execution_count": 24,
   "metadata": {},
   "outputs": [],
   "source": [
    "short_df_north = short_df[short_df.name == 'NORTH']"
   ]
  },
  {
   "cell_type": "code",
   "execution_count": 26,
   "metadata": {},
   "outputs": [],
   "source": [
    "short_df_north.to_csv('../data/nyiso/all/north.csv')"
   ]
  },
  {
   "cell_type": "code",
   "execution_count": 27,
   "metadata": {},
   "outputs": [
    {
     "data": {
      "text/plain": [
       "(309595, 3)"
      ]
     },
     "execution_count": 27,
     "metadata": {},
     "output_type": "execute_result"
    }
   ],
   "source": [
    "short_df_north = pd.read_csv('../data/nyiso/all/north.csv', index_col=0)\n",
    "short_df_north.shape"
   ]
  },
  {
   "cell_type": "code",
   "execution_count": 29,
   "metadata": {},
   "outputs": [
    {
     "data": {
      "text/html": [
       "<div>\n",
       "<style scoped>\n",
       "    .dataframe tbody tr th:only-of-type {\n",
       "        vertical-align: middle;\n",
       "    }\n",
       "\n",
       "    .dataframe tbody tr th {\n",
       "        vertical-align: top;\n",
       "    }\n",
       "\n",
       "    .dataframe thead th {\n",
       "        text-align: right;\n",
       "    }\n",
       "</style>\n",
       "<table border=\"1\" class=\"dataframe\">\n",
       "  <thead>\n",
       "    <tr style=\"text-align: right;\">\n",
       "      <th></th>\n",
       "      <th>name</th>\n",
       "      <th>ptid</th>\n",
       "      <th>load</th>\n",
       "    </tr>\n",
       "    <tr>\n",
       "      <th>timestamp</th>\n",
       "      <th></th>\n",
       "      <th></th>\n",
       "      <th></th>\n",
       "    </tr>\n",
       "  </thead>\n",
       "  <tbody>\n",
       "    <tr>\n",
       "      <th>10/27/2012 00:00:00</th>\n",
       "      <td>NORTH</td>\n",
       "      <td>61755.0</td>\n",
       "      <td>696.6</td>\n",
       "    </tr>\n",
       "    <tr>\n",
       "      <th>10/27/2012 00:05:00</th>\n",
       "      <td>NORTH</td>\n",
       "      <td>61755.0</td>\n",
       "      <td>700.7</td>\n",
       "    </tr>\n",
       "    <tr>\n",
       "      <th>10/27/2012 00:10:00</th>\n",
       "      <td>NORTH</td>\n",
       "      <td>61755.0</td>\n",
       "      <td>694.7</td>\n",
       "    </tr>\n",
       "    <tr>\n",
       "      <th>10/27/2012 00:15:00</th>\n",
       "      <td>NORTH</td>\n",
       "      <td>61755.0</td>\n",
       "      <td>692.8</td>\n",
       "    </tr>\n",
       "    <tr>\n",
       "      <th>10/27/2012 00:20:00</th>\n",
       "      <td>NORTH</td>\n",
       "      <td>61755.0</td>\n",
       "      <td>686.5</td>\n",
       "    </tr>\n",
       "  </tbody>\n",
       "</table>\n",
       "</div>"
      ],
      "text/plain": [
       "                      name     ptid   load\n",
       "timestamp                                 \n",
       "10/27/2012 00:00:00  NORTH  61755.0  696.6\n",
       "10/27/2012 00:05:00  NORTH  61755.0  700.7\n",
       "10/27/2012 00:10:00  NORTH  61755.0  694.7\n",
       "10/27/2012 00:15:00  NORTH  61755.0  692.8\n",
       "10/27/2012 00:20:00  NORTH  61755.0  686.5"
      ]
     },
     "execution_count": 29,
     "metadata": {},
     "output_type": "execute_result"
    }
   ],
   "source": [
    "short_df_north.head()"
   ]
  },
  {
   "cell_type": "code",
   "execution_count": null,
   "metadata": {},
   "outputs": [],
   "source": []
  }
 ],
 "metadata": {
  "kernelspec": {
   "display_name": "Python 3",
   "language": "python",
   "name": "python3"
  },
  "language_info": {
   "codemirror_mode": {
    "name": "ipython",
    "version": 3
   },
   "file_extension": ".py",
   "mimetype": "text/x-python",
   "name": "python",
   "nbconvert_exporter": "python",
   "pygments_lexer": "ipython3",
   "version": "3.5.2"
  }
 },
 "nbformat": 4,
 "nbformat_minor": 2
}
