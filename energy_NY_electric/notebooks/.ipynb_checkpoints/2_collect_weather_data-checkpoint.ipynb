{
 "cells": [
  {
   "cell_type": "markdown",
   "metadata": {
    "collapsed": true
   },
   "source": [
    "## 采集天气数据\n",
    "这个ipython notebook主要是遍历和纽约州每个区关联的所有天气站，使用Weather Underground API同步历史上的实时天气信息。"
   ]
  },
  {
   "cell_type": "code",
   "execution_count": 1,
   "metadata": {},
   "outputs": [],
   "source": [
    "import pandas as pd\n",
    "import numpy as np\n",
    "import time\n",
    "import random\n",
    "# import cPickle as pickle\n",
    "import pickle\n",
    "import os"
   ]
  },
  {
   "cell_type": "markdown",
   "metadata": {},
   "source": [
    "大家还记得上一个ipython notebook中的关联文件对吧，这里要加载进来使用了。"
   ]
  },
  {
   "cell_type": "code",
   "execution_count": 2,
   "metadata": {},
   "outputs": [],
   "source": [
    "weather_dict = pickle.load(open('weather_dict.pkl','rb'))"
   ]
  },
  {
   "cell_type": "code",
   "execution_count": 3,
   "metadata": {},
   "outputs": [
    {
     "data": {
      "text/plain": [
       "{'CAPITL': ('kalb', 'Capital', 'Albany'),\n",
       " 'CENTRL': ('ksyr', 'Central', 'Syracuse'),\n",
       " 'DUNWOD': ('klga', 'Dunwoodie', 'Yonkers'),\n",
       " 'GENESE': ('kroc', 'Genese', 'Rochester'),\n",
       " 'HUD VL': ('kpou', 'Hudson Valley', 'Poughkeepsie'),\n",
       " 'LONGIL': ('kbuf', 'West', 'Buffalo'),\n",
       " 'MHK VL': ('kjfk', 'Long Island', 'NYC'),\n",
       " 'MILLWD': ('krme', 'Mohawk Valley', 'Utica'),\n",
       " 'N.Y.C._LONGIL': ('klga', 'Millwood', 'Yonkers'),\n",
       " 'NORTH': ('kjfk', 'NYC', 'NYC'),\n",
       " 'WEST': ('kpbg', 'North', 'Plattsburgh')}"
      ]
     },
     "execution_count": 3,
     "metadata": {},
     "output_type": "execute_result"
    }
   ],
   "source": [
    "weather_dict"
   ]
  },
  {
   "cell_type": "code",
   "execution_count": 4,
   "metadata": {},
   "outputs": [],
   "source": [
    "airports = [i[0] for i in weather_dict.values()]"
   ]
  },
  {
   "cell_type": "code",
   "execution_count": 5,
   "metadata": {},
   "outputs": [],
   "source": [
    "#去重\n",
    "airports = list(set(airports))"
   ]
  },
  {
   "cell_type": "code",
   "execution_count": 6,
   "metadata": {},
   "outputs": [
    {
     "data": {
      "text/plain": [
       "['kjfk', 'kpou', 'kalb', 'kpbg', 'kroc', 'klga', 'krme', 'ksyr', 'kbuf']"
      ]
     },
     "execution_count": 6,
     "metadata": {},
     "output_type": "execute_result"
    }
   ],
   "source": [
    "airports"
   ]
  },
  {
   "cell_type": "code",
   "execution_count": 7,
   "metadata": {},
   "outputs": [],
   "source": [
    "dates = pd.date_range(pd.to_datetime('2001-05-01'), \\\n",
    "                       pd.to_datetime('2016-03-11'), freq='D')"
   ]
  },
  {
   "cell_type": "code",
   "execution_count": 8,
   "metadata": {},
   "outputs": [],
   "source": [
    "def write_daily_weather_data(airport, dates):\n",
    "    '''把2个python list（天气和日期）整合成一个CSV文件\n",
    "    \n",
    "    整合好的CSV文件有以下的字段:\n",
    "    \n",
    "    timeest | temperaturef | dewpointf | humidity | sealevelpressurein | visibilitymph | winddirection | windspeedkmh | gustspeedmph\n",
    "    \n",
    "        | precipitationmm | events | conditions | winddirdegrees | dateutc\n",
    "    '''\n",
    "    for d in dates:\n",
    "        try:\n",
    "            df0 = pd.read_csv('https://www.wunderground.com/history/airport/{0}/{1}/{2}/{3}/DailyHistory.html?format=1'\\\n",
    "                                 .format(airport, d.year, d.month, d.day))\n",
    "            cols = df0.columns\n",
    "\n",
    "            df0.columns = [col.lower().replace(' ','').replace('<br/>', '').replace('/','') for col in cols]\n",
    "            #print df0.columns\n",
    "            df0.dateutc = df0.dateutc.apply(lambda x: pd.to_datetime(x.replace('<br />', '')))\n",
    "\n",
    "            df0.gustspeedkmh = df0.gustspeedkmh.replace('-', 0)\n",
    "            df0.windspeedkmh = df0.windspeedkmh.replace('Calm', 0)\n",
    "            df0.precipitationmm = df0.precipitationmm.replace('NaN', 0)\n",
    "            df0.events = df0.events.replace('NaN', 0)\n",
    "\n",
    "            filepath = '../data/wunderground/'+ airport +'/' + str(d.date()).replace('-','') + '.csv'\n",
    "            print(filepath)\n",
    "            df0.to_csv(filepath, index=False)\n",
    "\n",
    "\n",
    "\n",
    "            t = 3\n",
    "            time.sleep(t)\n",
    "\n",
    "            if type(df0.dateutc[0]) == pd.tslib.Timestamp:\n",
    "                continue\n",
    "            else:\n",
    "                print(\"Something is wrong\")\n",
    "                break\n",
    "        except:\n",
    "            print(\"date \",d ,\" can't be downloaded!\")\n",
    "            continue\n",
    "\n",
    "    print(\"Files for %s have been written\" % airport)\n",
    "    return"
   ]
  },
  {
   "cell_type": "markdown",
   "metadata": {},
   "source": [
    "遍历气象站，导出天气文件"
   ]
  },
  {
   "cell_type": "code",
   "execution_count": 9,
   "metadata": {
    "scrolled": true
   },
   "outputs": [
    {
     "name": "stdout",
     "output_type": "stream",
     "text": [
      "date  2016-03-01 00:00:00  can't be downloaded!\n",
      "date  2016-03-02 00:00:00  can't be downloaded!\n",
      "date  2016-03-03 00:00:00  can't be downloaded!\n",
      "date  2016-03-04 00:00:00  can't be downloaded!\n",
      "date  2016-03-05 00:00:00  can't be downloaded!\n",
      "date  2016-03-06 00:00:00  can't be downloaded!\n",
      "date  2016-03-07 00:00:00  can't be downloaded!\n",
      "date  2016-03-08 00:00:00  can't be downloaded!\n",
      "date  2016-03-09 00:00:00  can't be downloaded!\n",
      "date  2016-03-10 00:00:00  can't be downloaded!\n",
      "date  2016-03-11 00:00:00  can't be downloaded!\n",
      "Files for kjfk have been written\n",
      "date  2016-03-01 00:00:00  can't be downloaded!\n",
      "date  2016-03-02 00:00:00  can't be downloaded!\n",
      "date  2016-03-03 00:00:00  can't be downloaded!\n",
      "date  2016-03-04 00:00:00  can't be downloaded!\n",
      "date  2016-03-05 00:00:00  can't be downloaded!\n",
      "date  2016-03-06 00:00:00  can't be downloaded!\n",
      "date  2016-03-07 00:00:00  can't be downloaded!\n",
      "date  2016-03-08 00:00:00  can't be downloaded!\n",
      "date  2016-03-09 00:00:00  can't be downloaded!\n",
      "date  2016-03-10 00:00:00  can't be downloaded!\n",
      "date  2016-03-11 00:00:00  can't be downloaded!\n",
      "Files for kpou have been written\n",
      "date  2016-03-01 00:00:00  can't be downloaded!\n",
      "date  2016-03-02 00:00:00  can't be downloaded!\n",
      "date  2016-03-03 00:00:00  can't be downloaded!\n",
      "date  2016-03-04 00:00:00  can't be downloaded!\n",
      "date  2016-03-05 00:00:00  can't be downloaded!\n",
      "date  2016-03-06 00:00:00  can't be downloaded!\n",
      "date  2016-03-07 00:00:00  can't be downloaded!\n",
      "date  2016-03-08 00:00:00  can't be downloaded!\n",
      "date  2016-03-09 00:00:00  can't be downloaded!\n",
      "date  2016-03-10 00:00:00  can't be downloaded!\n",
      "date  2016-03-11 00:00:00  can't be downloaded!\n",
      "Files for kalb have been written\n",
      "date  2016-03-01 00:00:00  can't be downloaded!\n",
      "date  2016-03-02 00:00:00  can't be downloaded!\n",
      "date  2016-03-03 00:00:00  can't be downloaded!\n",
      "date  2016-03-04 00:00:00  can't be downloaded!\n",
      "date  2016-03-05 00:00:00  can't be downloaded!\n",
      "date  2016-03-06 00:00:00  can't be downloaded!\n",
      "date  2016-03-07 00:00:00  can't be downloaded!\n",
      "date  2016-03-08 00:00:00  can't be downloaded!\n",
      "date  2016-03-09 00:00:00  can't be downloaded!\n",
      "date  2016-03-10 00:00:00  can't be downloaded!\n",
      "date  2016-03-11 00:00:00  can't be downloaded!\n",
      "Files for kpbg have been written\n",
      "date  2016-03-01 00:00:00  can't be downloaded!\n",
      "date  2016-03-02 00:00:00  can't be downloaded!\n",
      "date  2016-03-03 00:00:00  can't be downloaded!\n",
      "date  2016-03-04 00:00:00  can't be downloaded!\n",
      "date  2016-03-05 00:00:00  can't be downloaded!\n",
      "date  2016-03-06 00:00:00  can't be downloaded!\n",
      "date  2016-03-07 00:00:00  can't be downloaded!\n",
      "date  2016-03-08 00:00:00  can't be downloaded!\n",
      "date  2016-03-09 00:00:00  can't be downloaded!\n",
      "date  2016-03-10 00:00:00  can't be downloaded!\n",
      "date  2016-03-11 00:00:00  can't be downloaded!\n",
      "Files for kroc have been written\n",
      "date  2016-03-01 00:00:00  can't be downloaded!\n",
      "date  2016-03-02 00:00:00  can't be downloaded!\n",
      "date  2016-03-03 00:00:00  can't be downloaded!\n",
      "date  2016-03-04 00:00:00  can't be downloaded!\n",
      "date  2016-03-05 00:00:00  can't be downloaded!\n",
      "date  2016-03-06 00:00:00  can't be downloaded!\n",
      "date  2016-03-07 00:00:00  can't be downloaded!\n",
      "date  2016-03-08 00:00:00  can't be downloaded!\n",
      "date  2016-03-09 00:00:00  can't be downloaded!\n",
      "date  2016-03-10 00:00:00  can't be downloaded!\n",
      "date  2016-03-11 00:00:00  can't be downloaded!\n",
      "Files for klga have been written\n",
      "date  2016-03-01 00:00:00  can't be downloaded!\n",
      "date  2016-03-02 00:00:00  can't be downloaded!\n",
      "date  2016-03-03 00:00:00  can't be downloaded!\n",
      "date  2016-03-04 00:00:00  can't be downloaded!\n",
      "date  2016-03-05 00:00:00  can't be downloaded!\n",
      "date  2016-03-06 00:00:00  can't be downloaded!\n",
      "date  2016-03-07 00:00:00  can't be downloaded!\n",
      "date  2016-03-08 00:00:00  can't be downloaded!\n",
      "date  2016-03-09 00:00:00  can't be downloaded!\n",
      "date  2016-03-10 00:00:00  can't be downloaded!\n",
      "date  2016-03-11 00:00:00  can't be downloaded!\n",
      "Files for krme have been written\n",
      "date  2016-03-01 00:00:00  can't be downloaded!\n",
      "date  2016-03-02 00:00:00  can't be downloaded!\n",
      "date  2016-03-03 00:00:00  can't be downloaded!\n",
      "date  2016-03-04 00:00:00  can't be downloaded!\n",
      "date  2016-03-05 00:00:00  can't be downloaded!\n",
      "date  2016-03-06 00:00:00  can't be downloaded!\n",
      "date  2016-03-07 00:00:00  can't be downloaded!\n",
      "date  2016-03-08 00:00:00  can't be downloaded!\n",
      "date  2016-03-09 00:00:00  can't be downloaded!\n",
      "date  2016-03-10 00:00:00  can't be downloaded!\n",
      "date  2016-03-11 00:00:00  can't be downloaded!\n",
      "Files for ksyr have been written\n",
      "date  2016-03-01 00:00:00  can't be downloaded!\n",
      "date  2016-03-02 00:00:00  can't be downloaded!\n",
      "date  2016-03-03 00:00:00  can't be downloaded!\n",
      "date  2016-03-04 00:00:00  can't be downloaded!\n",
      "date  2016-03-05 00:00:00  can't be downloaded!\n",
      "date  2016-03-06 00:00:00  can't be downloaded!\n",
      "date  2016-03-07 00:00:00  can't be downloaded!\n",
      "date  2016-03-08 00:00:00  can't be downloaded!\n",
      "date  2016-03-09 00:00:00  can't be downloaded!\n",
      "date  2016-03-10 00:00:00  can't be downloaded!\n",
      "date  2016-03-11 00:00:00  can't be downloaded!\n",
      "Files for kbuf have been written\n"
     ]
    }
   ],
   "source": [
    "for a in airports:\n",
    "    write_daily_weather_data(a, dates)"
   ]
  },
  {
   "cell_type": "code",
   "execution_count": 25,
   "metadata": {
    "collapsed": true
   },
   "outputs": [],
   "source": [
    "dates = pd.date_range(pd.to_datetime('2012-07-03'), \\\n",
    "                       pd.to_datetime('2013-01-01'), freq='D')"
   ]
  },
  {
   "cell_type": "code",
   "execution_count": null,
   "metadata": {},
   "outputs": [
    {
     "name": "stdout",
     "output_type": "stream",
     "text": [
      "../data/wunderground/kalb/20120703.csv\n",
      "date  2012-07-04 00:00:00  can't be downloaded!\n",
      "date  2012-07-05 00:00:00  can't be downloaded!\n",
      "date  2012-07-06 00:00:00  can't be downloaded!\n",
      "date  2012-07-07 00:00:00  can't be downloaded!\n",
      "../data/wunderground/kalb/20120708.csv\n",
      "../data/wunderground/kalb/20120709.csv\n",
      "date  2012-07-10 00:00:00  can't be downloaded!\n",
      "date  2012-07-11 00:00:00  can't be downloaded!\n",
      "date  2012-07-12 00:00:00  can't be downloaded!\n",
      "date  2012-07-13 00:00:00  can't be downloaded!\n",
      "date  2012-07-14 00:00:00  can't be downloaded!\n",
      "date  2012-07-15 00:00:00  can't be downloaded!\n",
      "date  2012-07-16 00:00:00  can't be downloaded!\n",
      "date  2012-07-17 00:00:00  can't be downloaded!\n",
      "date  2012-07-18 00:00:00  can't be downloaded!\n",
      "date  2012-07-19 00:00:00  can't be downloaded!\n",
      "date  2012-07-20 00:00:00  can't be downloaded!\n",
      "date  2012-07-21 00:00:00  can't be downloaded!\n",
      "date  2012-07-22 00:00:00  can't be downloaded!\n"
     ]
    }
   ],
   "source": [
    "write_daily_weather_data('kalb', dates)"
   ]
  },
  {
   "cell_type": "code",
   "execution_count": 85,
   "metadata": {
    "collapsed": true
   },
   "outputs": [],
   "source": [
    "\n",
    "def combine_weather_data(airport):\n",
    "    '''Combine the weather data for each day at an airport into one combined csv'''\n",
    "    csvs = []\n",
    "    for file in os.listdir(\"../data/wunderground/\"+airport+\"/\"):\n",
    "        if file.endswith(\".csv\"):\n",
    "            csvs.append(file)\n",
    "\n",
    "    fout=open(\"../data/wunderground/\"+airport+\"_all.csv\",\"a\")\n",
    "\n",
    "    # 第一个文件完整地写进去:\n",
    "    for line in open(\"../data/wunderground/\"+airport+\"/\"+csvs[0]):\n",
    "        fout.write(line)\n",
    "    # 后续的文件，去掉头部信息:    \n",
    "    for file in csvs[1:]:\n",
    "        f = open(\"../data/wunderground/\"+airport+\"/\"+file)\n",
    "        f.next() # 跳过header\n",
    "        for line in f:\n",
    "             fout.write(line)\n",
    "        f.close()\n",
    "    fout.close()\n",
    "    print \"Files for %s have been combined\" % airport"
   ]
  },
  {
   "cell_type": "code",
   "execution_count": null,
   "metadata": {
    "collapsed": true
   },
   "outputs": [],
   "source": [
    "for a in airports:\n",
    "    combine_weather_data(a)"
   ]
  }
 ],
 "metadata": {
  "kernelspec": {
   "display_name": "Python 3",
   "language": "python",
   "name": "python3"
  },
  "language_info": {
   "codemirror_mode": {
    "name": "ipython",
    "version": 3
   },
   "file_extension": ".py",
   "mimetype": "text/x-python",
   "name": "python",
   "nbconvert_exporter": "python",
   "pygments_lexer": "ipython3",
   "version": "3.5.2"
  }
 },
 "nbformat": 4,
 "nbformat_minor": 1
}
